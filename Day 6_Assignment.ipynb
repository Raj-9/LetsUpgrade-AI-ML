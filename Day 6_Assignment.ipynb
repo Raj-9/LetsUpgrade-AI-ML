{
 "cells": [
  {
   "cell_type": "raw",
   "metadata": {},
   "source": [
    "Question 1:\n",
    "Assuming that we have some email addresses in the \"username@companyname.com\" format, please write program\n",
    "to print the company name of a given email address. Both user names and company names are composed of letters\n",
    "only."
   ]
  },
  {
   "cell_type": "code",
   "execution_count": 2,
   "metadata": {},
   "outputs": [
    {
     "name": "stdout",
     "output_type": "stream",
     "text": [
      "Enter the email address : rajeev@google.com\n",
      "Input received as : rajeev@google.com\n",
      "The company name is : google\n"
     ]
    }
   ],
   "source": [
    "x = input(\"Enter the email address : \")\n",
    "print(\"Input received as :\",x)\n",
    "y = x.split(\"@\")\n",
    "z = y[1][0:-4]\n",
    "print(\"The company name is :\",z)"
   ]
  },
  {
   "cell_type": "raw",
   "metadata": {},
   "source": [
    "Question 2:\n",
    "Write a program that accepts a comma-separated sequence of words as input and prints the words in a comma\n",
    "separated sequence after sorting them alphabetically."
   ]
  },
  {
   "cell_type": "code",
   "execution_count": 5,
   "metadata": {},
   "outputs": [
    {
     "name": "stdout",
     "output_type": "stream",
     "text": [
      "Enter the words in comma separated format :raj,is,good,boy,working,hard\n",
      "The value of a is : raj,is,good,boy,working,hard\n",
      "The value of b is : ['raj', 'is', 'good', 'boy', 'working', 'hard']\n",
      "The sorted output is : ['boy', 'good', 'hard', 'is', 'raj', 'working']\n"
     ]
    }
   ],
   "source": [
    "a = input(\"Enter the words in comma separated format :\")\n",
    "print(\"The value of a is :\",a)\n",
    "b = a.split(\",\")\n",
    "print(\"The value of b is :\",b)\n",
    "c = sorted(b)\n",
    "print(\"The sorted output is :\",c)"
   ]
  },
  {
   "cell_type": "raw",
   "metadata": {},
   "source": [
    "Question 3:\n",
    "Create your own Jupyter Notebook for Sets.\n",
    "Reference link: https://www.w3schools.com/python/python_sets.asp"
   ]
  },
  {
   "cell_type": "raw",
   "metadata": {},
   "source": [
    "A Jupyter notebook sets is submitted"
   ]
  },
  {
   "cell_type": "raw",
   "metadata": {},
   "source": [
    "Question 4:\n",
    "Given a list of n-1 numbers ranging from 1 to n, your task is to find the missing number. There are no duplicates."
   ]
  },
  {
   "cell_type": "code",
   "execution_count": 10,
   "metadata": {},
   "outputs": [
    {
     "name": "stdout",
     "output_type": "stream",
     "text": [
      "Enter the list of numbers without duplicate values :1 2 4 6 3 7 8\n",
      "Input : 1 2 4 6 3 7 8\n",
      "The sorted list is: ['1', '2', '3', '4', '6', '7', '8']\n",
      "output 5\n"
     ]
    }
   ],
   "source": [
    "#I = 1 2 4 6 3 7 8\n",
    "I = input(\"Enter the list of numbers without duplicate values :\")\n",
    "print(\"Input :\",I)\n",
    "t = I.split(\" \")\n",
    "s = sorted(t)\n",
    "print(\"The sorted list is:\",s)\n",
    "#print(type(s))\n",
    "n=1\n",
    "for i in range(len(s)-1):\n",
    "    for n in range(n,len(s)-1):\n",
    "        if n != i:\n",
    "            pass\n",
    "        else:\n",
    "            print(\"output\",n)"
   ]
  },
  {
   "cell_type": "raw",
   "metadata": {},
   "source": [
    "Question 5:\n",
    "With a given list L, write a program to print this list L after removing all duplicate values with original order reserved."
   ]
  },
  {
   "cell_type": "code",
   "execution_count": 1,
   "metadata": {
    "scrolled": true
   },
   "outputs": [
    {
     "name": "stdout",
     "output_type": "stream",
     "text": [
      "Enter the list:12 24 35 24 88 120 155 88 120 155\n",
      "Input : 12 24 35 24 88 120 155 88 120 155\n",
      "With order Output :  12 24 35 88 120 155\n"
     ]
    }
   ],
   "source": [
    "#L = 12 24 35 24 88 120 155 88 120 155\n",
    "L = input(\"Enter the list:\")\n",
    "print(\"Input :\",L)\n",
    "t = L.split(\" \")\n",
    "u=\"\"\n",
    "for i in t:\n",
    "  if(i in u):\n",
    "    pass\n",
    "  else: \n",
    "    u = u + \" \" + i \n",
    "print(\"With order Output :\",u)"
   ]
  },
  {
   "cell_type": "code",
   "execution_count": null,
   "metadata": {},
   "outputs": [],
   "source": []
  }
 ],
 "metadata": {
  "kernelspec": {
   "display_name": "Python 3",
   "language": "python",
   "name": "python3"
  },
  "language_info": {
   "codemirror_mode": {
    "name": "ipython",
    "version": 3
   },
   "file_extension": ".py",
   "mimetype": "text/x-python",
   "name": "python",
   "nbconvert_exporter": "python",
   "pygments_lexer": "ipython3",
   "version": "3.7.6"
  }
 },
 "nbformat": 4,
 "nbformat_minor": 4
}
