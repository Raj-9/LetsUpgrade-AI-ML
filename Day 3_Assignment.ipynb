{
 "cells": [
  {
   "cell_type": "code",
   "execution_count": 1,
   "metadata": {},
   "outputs": [
    {
     "name": "stdout",
     "output_type": "stream",
     "text": [
      "(2+2j)\n"
     ]
    }
   ],
   "source": [
    "# Question 1 : Write a program to subtract two complex numbers in Python.\n",
    "a = 4+5j\n",
    "b = 2+3j\n",
    "c = a-b\n",
    "print(c)"
   ]
  },
  {
   "cell_type": "code",
   "execution_count": 2,
   "metadata": {},
   "outputs": [
    {
     "name": "stdout",
     "output_type": "stream",
     "text": [
      "The fourth root of the number is  5.0\n"
     ]
    }
   ],
   "source": [
    "# Question 2 : Write a program to find the fourth root of a number\n",
    "a = 625\n",
    "b = 1/4\n",
    "c = a**b\n",
    "print(\"The fourth root of the number is \",c)"
   ]
  },
  {
   "cell_type": "code",
   "execution_count": 3,
   "metadata": {},
   "outputs": [
    {
     "name": "stdout",
     "output_type": "stream",
     "text": [
      "The value of a is  4\n",
      "The value of b is  9\n",
      "The swap value of a is  9\n",
      "The swap value of b is  4\n"
     ]
    }
   ],
   "source": [
    "# Question 3 :Write a program to swap two numbers in Python with the help of a temporary variable\n",
    "a = 4\n",
    "b = 9\n",
    "print(\"The value of a is \",a)\n",
    "print(\"The value of b is \",b)\n",
    "c = a\n",
    "a = b\n",
    "b = c\n",
    "print(\"The swap value of a is \",a)\n",
    "print(\"The swap value of b is \",b)"
   ]
  },
  {
   "cell_type": "code",
   "execution_count": 4,
   "metadata": {},
   "outputs": [
    {
     "name": "stdout",
     "output_type": "stream",
     "text": [
      "The value of a is  4\n",
      "The value of b is  9\n",
      "The swap value of a is  9\n",
      "The swap value of b is  4\n"
     ]
    }
   ],
   "source": [
    "# Question 4 : Write a program to swap two numbers in Python without using a temporary variable\n",
    "a = 4\n",
    "b = 9\n",
    "print(\"The value of a is \",a)\n",
    "print(\"The value of b is \",b)\n",
    "a = a + b\n",
    "b = a - b\n",
    "a = a - b\n",
    "print(\"The swap value of a is \",a)\n",
    "print(\"The swap value of b is \",b)"
   ]
  },
  {
   "cell_type": "code",
   "execution_count": 5,
   "metadata": {},
   "outputs": [
    {
     "name": "stdout",
     "output_type": "stream",
     "text": [
      "The temperature in Kelvin 310.5\n",
      "The temperature in Celsius 37.0\n"
     ]
    }
   ],
   "source": [
    "# Question 5 : Write a program to convert fahrenheit to kelvin and celsius both\n",
    "F = 98.6\n",
    "K = 273.5 + ((F - 32.0) * (5.0/9.0))\n",
    "print(\"The temperature in Kelvin\",K)\n",
    "C = ((F - 32) * (5.0/9.0))\n",
    "print(\"The temperature in Celsius\",C)"
   ]
  },
  {
   "cell_type": "code",
   "execution_count": 6,
   "metadata": {},
   "outputs": [
    {
     "name": "stdout",
     "output_type": "stream",
     "text": [
      "<class 'int'>\n",
      "<class 'float'>\n",
      "<class 'str'>\n",
      "<class 'complex'>\n",
      "<class 'list'>\n",
      "<class 'tuple'>\n",
      "<class 'dict'>\n"
     ]
    }
   ],
   "source": [
    "# Question 6 : Write a program to demonstrate all the available data types in Python. Hint: Use type() function.\n",
    "a = 4\n",
    "print(type(a))\n",
    "\n",
    "b = 4.0\n",
    "print(type(b))\n",
    "\n",
    "c = 'Testing'\n",
    "print(type(c))\n",
    "\n",
    "d = 5 + 4j\n",
    "print(type(d))\n",
    "\n",
    "l = [1,2,'raj',233,4.0]\n",
    "print(type(l))\n",
    "\n",
    "t = (1,2,3,67,'test')\n",
    "print(type(t))\n",
    "\n",
    "dic = {\"fruit\":\"apple\",\"veg\":\"carrot\"}\n",
    "print(type(dic))"
   ]
  },
  {
   "cell_type": "raw",
   "metadata": {},
   "source": [
    "# Question 7 : Create a Markdown cell in jupyter and list the steps discussed in the session by Dr. Darshan Ingle sir to create Github profile and upload Githubs Assignment link."
   ]
  },
  {
   "cell_type": "markdown",
   "metadata": {},
   "source": [
    "__Sign up to Github__"
   ]
  },
  {
   "cell_type": "markdown",
   "metadata": {},
   "source": [
    "__Create a new repositories as LetsUpgrade-AI-ML__"
   ]
  },
  {
   "cell_type": "markdown",
   "metadata": {},
   "source": [
    "__Click on upload an existing file__"
   ]
  },
  {
   "cell_type": "markdown",
   "metadata": {},
   "source": [
    "__Drag n drop the saved jupiter notebook file then commit changes__"
   ]
  },
  {
   "cell_type": "markdown",
   "metadata": {},
   "source": [
    "__Copy the repo link & share to Letsupgrade google form__"
   ]
  },
  {
   "cell_type": "code",
   "execution_count": null,
   "metadata": {},
   "outputs": [],
   "source": []
  }
 ],
 "metadata": {
  "kernelspec": {
   "display_name": "Python 3",
   "language": "python",
   "name": "python3"
  },
  "language_info": {
   "codemirror_mode": {
    "name": "ipython",
    "version": 3
   },
   "file_extension": ".py",
   "mimetype": "text/x-python",
   "name": "python",
   "nbconvert_exporter": "python",
   "pygments_lexer": "ipython3",
   "version": "3.7.6"
  }
 },
 "nbformat": 4,
 "nbformat_minor": 4
}
