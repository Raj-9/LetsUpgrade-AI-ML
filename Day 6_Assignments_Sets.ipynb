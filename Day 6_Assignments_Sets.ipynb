{
 "cells": [
  {
   "cell_type": "raw",
   "metadata": {},
   "source": [
    "# Sets is a collection which is unordered & unindexed. It is written with curly brackets."
   ]
  },
  {
   "cell_type": "code",
   "execution_count": 2,
   "metadata": {},
   "outputs": [
    {
     "name": "stdout",
     "output_type": "stream",
     "text": [
      "A set of flowers: {'marigold', 'sunflower', 'rose', 'lily'}\n"
     ]
    }
   ],
   "source": [
    "# Create a set\n",
    "aset = {\"marigold\",\"rose\",\"sunflower\",\"lily\"}\n",
    "print(\"A set of flowers:\",aset)"
   ]
  },
  {
   "cell_type": "code",
   "execution_count": 5,
   "metadata": {},
   "outputs": [
    {
     "name": "stdout",
     "output_type": "stream",
     "text": [
      "{'sunflower', 'rose', 'water lily', 'marigold', 'lily'}\n",
      "{'sunflower', 'rose', 'water lily', 'marigold', 'lily'}\n"
     ]
    }
   ],
   "source": [
    "# add an element\n",
    "aset = {\"marigold\",\"rose\",\"sunflower\",\"lily\"}\n",
    "aset.add(\"water lily\")\n",
    "print(aset)\n",
    "\n",
    "# add already added element\n",
    "aset.add(\"rose\")\n",
    "print(aset)"
   ]
  },
  {
   "cell_type": "code",
   "execution_count": 6,
   "metadata": {},
   "outputs": [
    {
     "name": "stdout",
     "output_type": "stream",
     "text": [
      "set()\n"
     ]
    }
   ],
   "source": [
    "# clear the elements\n",
    "aset = {\"marigold\",\"rose\",\"sunflower\",\"lily\"}\n",
    "aset.clear()\n",
    "print(aset)"
   ]
  },
  {
   "cell_type": "code",
   "execution_count": 7,
   "metadata": {},
   "outputs": [
    {
     "name": "stdout",
     "output_type": "stream",
     "text": [
      "The bset is: {'marigold', 'sunflower', 'rose', 'lily'}\n"
     ]
    }
   ],
   "source": [
    "# copy the set\n",
    "aset = {\"marigold\",\"rose\",\"sunflower\",\"lily\"}\n",
    "bset = aset.copy()\n",
    "print(\"The bset is:\",bset)"
   ]
  },
  {
   "cell_type": "code",
   "execution_count": 14,
   "metadata": {},
   "outputs": [
    {
     "name": "stdout",
     "output_type": "stream",
     "text": [
      "{'water lily'}\n"
     ]
    }
   ],
   "source": [
    "# difference of two sets\n",
    "aset = {\"marigold\",\"rose\",\"sunflower\",\"lily\",\"red flower\"}\n",
    "bset = {\"marigold\",\"rose\",\"sunflower\",\"lily\",\"water lily\"}\n",
    "cset = bset.difference(aset)\n",
    "print(cset)"
   ]
  },
  {
   "cell_type": "code",
   "execution_count": 15,
   "metadata": {},
   "outputs": [
    {
     "name": "stdout",
     "output_type": "stream",
     "text": [
      "{'marigold', 'rose', 'lily'}\n"
     ]
    }
   ],
   "source": [
    "# discard the item from the set\n",
    "aset = {\"marigold\",\"rose\",\"sunflower\",\"lily\"}\n",
    "aset.discard(\"sunflower\")\n",
    "print(aset)"
   ]
  },
  {
   "cell_type": "code",
   "execution_count": 17,
   "metadata": {},
   "outputs": [
    {
     "name": "stdout",
     "output_type": "stream",
     "text": [
      "{'marigold', 'sunflower', 'rose', 'lily'}\n"
     ]
    }
   ],
   "source": [
    "# intersection of two sets\n",
    "aset = {\"marigold\",\"rose\",\"sunflower\",\"lily\",\"white flower\"}\n",
    "bset = {\"marigold\",\"rose\",\"sunflower\",\"lily\",\"water lily\",\"Red flower\"}\n",
    "cset = aset.intersection(bset)\n",
    "print(cset)"
   ]
  },
  {
   "cell_type": "code",
   "execution_count": 20,
   "metadata": {},
   "outputs": [
    {
     "name": "stdout",
     "output_type": "stream",
     "text": [
      "{'white flower', 'rose', 'marigold', 'lily'}\n"
     ]
    }
   ],
   "source": [
    "# pop an element\n",
    "# It removes any random element from the set\n",
    "aset = {\"marigold\",\"rose\",\"sunflower\",\"lily\",\"white flower\"}\n",
    "aset.pop()\n",
    "print(aset)"
   ]
  },
  {
   "cell_type": "code",
   "execution_count": 23,
   "metadata": {},
   "outputs": [
    {
     "name": "stdout",
     "output_type": "stream",
     "text": [
      "6\n",
      "{'sunflower', 'rose', 'water lily', 'marigold', 'red flower'}\n",
      "5\n"
     ]
    }
   ],
   "source": [
    "# remove a specific element\n",
    "aset = {\"marigold\",\"rose\",\"sunflower\",\"lily\",\"red flower\",\"water lily\"}\n",
    "print(len(aset))\n",
    "aset.remove(\"lily\")\n",
    "print(aset)\n",
    "print(len(aset))"
   ]
  },
  {
   "cell_type": "code",
   "execution_count": 29,
   "metadata": {},
   "outputs": [
    {
     "name": "stdout",
     "output_type": "stream",
     "text": [
      "{'sunflower', 'white flower', 'rose', 'water lily', 'marigold', 'lily', 'red flower'}\n",
      "7\n",
      "{'sunflower', 'white flower', 'rose', 'cauliflower', 'water lily', 'marigold', 'lily', 'cabbage', 'red flower'}\n",
      "9\n"
     ]
    }
   ],
   "source": [
    "# union two sets\n",
    "aset = {\"marigold\",\"rose\",\"sunflower\",\"lily\",\"red flower\",\"water lily\"}\n",
    "bset = {\"marigold\",\"rose\",\"sunflower\",\"lily\",\"red flower\",\"white flower\"}\n",
    "cset = aset.union(bset)\n",
    "print(cset)\n",
    "print(len(cset))\n",
    "\n",
    "# add more than two sets\n",
    "dset = {\"cauliflower\",\"cabbage\"}\n",
    "eset = aset.union(bset,dset)\n",
    "print(eset)\n",
    "print(len(eset))"
   ]
  },
  {
   "cell_type": "code",
   "execution_count": 34,
   "metadata": {},
   "outputs": [
    {
     "name": "stdout",
     "output_type": "stream",
     "text": [
      "Item found as sunflower\n"
     ]
    }
   ],
   "source": [
    "# check if an element is present in the set\n",
    "aset = {'sunflower', 'white flower', 'rose', 'cauliflower', 'water lily', 'marigold', 'lily', 'cabbage', 'red flower'}\n",
    "if \"sunflower\" in aset:\n",
    "    print(\"Item found as sunflower\") "
   ]
  },
  {
   "cell_type": "code",
   "execution_count": null,
   "metadata": {},
   "outputs": [],
   "source": []
  }
 ],
 "metadata": {
  "kernelspec": {
   "display_name": "Python 3",
   "language": "python",
   "name": "python3"
  },
  "language_info": {
   "codemirror_mode": {
    "name": "ipython",
    "version": 3
   },
   "file_extension": ".py",
   "mimetype": "text/x-python",
   "name": "python",
   "nbconvert_exporter": "python",
   "pygments_lexer": "ipython3",
   "version": "3.7.6"
  }
 },
 "nbformat": 4,
 "nbformat_minor": 4
}
