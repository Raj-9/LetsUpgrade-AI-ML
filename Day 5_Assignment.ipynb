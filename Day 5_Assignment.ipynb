{
 "cells": [
  {
   "cell_type": "raw",
   "metadata": {},
   "source": [
    "Question 1 :\n",
    "Write a Python program to find the first 20 non-even prime natural numbers"
   ]
  },
  {
   "cell_type": "code",
   "execution_count": null,
   "metadata": {},
   "outputs": [],
   "source": [
    "for i in range(1,100):\n",
    "    if i > 1: \n",
    "        for n in range(2, i//2 + 2): \n",
    "            if (i % n) == 0: \n",
    "                break\n",
    "            else: \n",
    "                if n == i//2 + 1: \n",
    "                    print(i)"
   ]
  },
  {
   "cell_type": "raw",
   "metadata": {},
   "source": [
    "Question 2 :\n",
    "Write a Python program to implement 15 functions of string"
   ]
  },
  {
   "cell_type": "code",
   "execution_count": 34,
   "metadata": {},
   "outputs": [
    {
     "name": "stdout",
     "output_type": "stream",
     "text": [
      "LEARNING PYTHON\n",
      "rising star\n",
      "lEARNING pYTHON\n",
      "Risingstar\n",
      "2\n",
      "Learning PythonRising star\n",
      "4\n",
      "False\n",
      "False\n",
      "('Learning ', 'Python', '')\n",
      "('', 'Rising', ' star')\n",
      "['Le', 'rning Python']\n",
      "['Learning', 'Python']\n",
      "000Rising star\n",
      "15\n",
      "True\n",
      "learning python\n"
     ]
    }
   ],
   "source": [
    "s1 = \"Learning Python\"\n",
    "s2 = \"Rising star\"\n",
    "\n",
    "print(s1.upper())\n",
    "print(s2.lower())\n",
    "print(s1.swapcase())\n",
    "print(s2.replace(\" \", \"\"))\n",
    "print(s2.count(\"i\"))\n",
    "print(s1+s2)\n",
    "print(s1.find(\"n\"))\n",
    "print(s2.islower())\n",
    "print(s2.istitle())\n",
    "print(s1.partition(\"Python\"))\n",
    "print(s2.partition(\"Rising\"))\n",
    "print(s1.rsplit(\"a\"))\n",
    "print(s1.rsplit(\" \"))\n",
    "print(s2.zfill(14))\n",
    "print(len(s1))\n",
    "print(s2.startswith(\"R\"))\n",
    "print(s1.casefold())"
   ]
  },
  {
   "cell_type": "raw",
   "metadata": {},
   "source": [
    "Question 3:\n",
    "Write a Python program to check if the given string is a Palindrome or Anagram or None of them.\n",
    "Display the message accordingly to the user."
   ]
  },
  {
   "cell_type": "code",
   "execution_count": null,
   "metadata": {},
   "outputs": [],
   "source": [
    "def isPallindrome(s1):\n",
    "    s1 == s1[::-1]\n",
    "    return True\n",
    "\n",
    "def isAnagram(s1,s2):\n",
    "    if(sorted(s1) == sorted(s2)):\n",
    "        return True\n",
    "\n",
    "s1 = \"radar\"\n",
    "s2 = \"darar\"\n",
    "res_p = isPallindrome(s1)\n",
    "res_a = isAnagram(s1,s2)\n",
    "\n",
    "if res_p == True:\n",
    "    print(\"Is Pallindrome\")\n",
    "    if res_a == True:\n",
    "        print(\"Is Anagram\")\n",
    "else:\n",
    "    print(\"None of them\")"
   ]
  },
  {
   "cell_type": "raw",
   "metadata": {},
   "source": [
    "Question 4:\n",
    "Write a Python's user defined function that removes all the additional characters from the string\n",
    "and converts it finally to lower case using built-in lower(). eg: If the string is \"Dr. Darshan Ingle\n",
    "@AI-ML Trainer\", then the output be \"drdarshaningleaimltrainer\"."
   ]
  },
  {
   "cell_type": "code",
   "execution_count": 3,
   "metadata": {},
   "outputs": [
    {
     "name": "stdout",
     "output_type": "stream",
     "text": [
      "dr.darshaningle@ai-mltrainer\n"
     ]
    }
   ],
   "source": [
    "def isRemovespace(s):\n",
    "    return s.replace(\" \", \"\")\n",
    "    \n",
    "s = \"Dr. Darshan Ingle @AI-ML Trainer\" \n",
    "res_s = isRemovespace(s)\n",
    "print(res_s.lower())"
   ]
  },
  {
   "cell_type": "code",
   "execution_count": null,
   "metadata": {},
   "outputs": [],
   "source": []
  }
 ],
 "metadata": {
  "kernelspec": {
   "display_name": "Python 3",
   "language": "python",
   "name": "python3"
  },
  "language_info": {
   "codemirror_mode": {
    "name": "ipython",
    "version": 3
   },
   "file_extension": ".py",
   "mimetype": "text/x-python",
   "name": "python",
   "nbconvert_exporter": "python",
   "pygments_lexer": "ipython3",
   "version": "3.7.6"
  }
 },
 "nbformat": 4,
 "nbformat_minor": 4
}
