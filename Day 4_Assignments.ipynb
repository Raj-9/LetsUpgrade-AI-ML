{
 "cells": [
  {
   "cell_type": "raw",
   "metadata": {},
   "source": [
    "Question 1 : \n",
    "Research on whether addition, subtraction, multiplication, division, floor division and modulo operations be performed on complex numbers. Based on your study, implement a Python program to demonstrate these operations."
   ]
  },
  {
   "cell_type": "code",
   "execution_count": 8,
   "metadata": {},
   "outputs": [
    {
     "name": "stdout",
     "output_type": "stream",
     "text": [
      "The addition of two complex numbers is : (3+6j)\n",
      "The subtraction of two complex numbers is : (1+2j)\n",
      "The multipication of two complex numbers is : (-6+8j)\n",
      "The division of two complex numbers is : (2+0j)\n"
     ]
    }
   ],
   "source": [
    "a = 2 + 4j\n",
    "b = 1 + 2j\n",
    "add = a + b\n",
    "print(\"The addition of two complex numbers is :\",add)\n",
    "\n",
    "sub = a - b\n",
    "print(\"The subtraction of two complex numbers is :\",sub)\n",
    "\n",
    "mul = a * b\n",
    "print(\"The multipication of two complex numbers is :\",mul)\n",
    "\n",
    "div = a / b\n",
    "print(\"The division of two complex numbers is :\",div)\n",
    "\n",
    "# fdiv = a // b  # floor division is not possible for complex numbers\n",
    "# print(fdiv)\n",
    "\n",
    "# mod = a%b # modulo operator is not possible for complex numbers\n",
    "# print(mod)"
   ]
  },
  {
   "cell_type": "raw",
   "metadata": {},
   "source": [
    "Question 2 :\n",
    "Research on range() functions and its parameters. Create a markdown cell and write in your own words (no copy-paste from google please) what you understand about it. Implement a small program of your choice on the same."
   ]
  },
  {
   "cell_type": "markdown",
   "metadata": {},
   "source": [
    "A range() function is a function which generates a sequence list of numbers, as per defined by the user(parameters). It can be having a single or multiple arguments. Syntax as range([start,] stop [, step]) -> range object. \n",
    "It is mostly useful with for loop to repeat the actions."
   ]
  },
  {
   "cell_type": "code",
   "execution_count": 6,
   "metadata": {},
   "outputs": [
    {
     "name": "stdout",
     "output_type": "stream",
     "text": [
      "2\n",
      "4\n",
      "6\n",
      "8\n",
      "10\n",
      "12\n",
      "14\n",
      "16\n",
      "18\n"
     ]
    }
   ],
   "source": [
    "# Here the start of the range is 2 & end point is 20(excluding). 2 is the step operation\n",
    "for i in range(2,20,2):\n",
    "    print(i)"
   ]
  },
  {
   "cell_type": "raw",
   "metadata": {},
   "source": [
    "Question 3:\n",
    "Consider two numbers. Perform their subtraction and if the result of subtraction is greater than 25, print their multiplication result else print their division result."
   ]
  },
  {
   "cell_type": "code",
   "execution_count": 3,
   "metadata": {},
   "outputs": [
    {
     "name": "stdout",
     "output_type": "stream",
     "text": [
      "The division of two numbers is  1.4444444444444444\n"
     ]
    }
   ],
   "source": [
    "a = 26\n",
    "b = 18\n",
    "if (a-b)>25:\n",
    "    mul = a*b\n",
    "    print(\"The multipication of two number is\",mul)\n",
    "else:\n",
    "    div = a/b\n",
    "    print(\"The division of two numbers is \",div)"
   ]
  },
  {
   "cell_type": "raw",
   "metadata": {},
   "source": [
    "Question 4:\n",
    "Consider a list of 10 elements of integer values. If the number in the list is divisible by 2, print the result as \"square of that number minus 2\"."
   ]
  },
  {
   "cell_type": "code",
   "execution_count": 7,
   "metadata": {},
   "outputs": [
    {
     "name": "stdout",
     "output_type": "stream",
     "text": [
      "14\n",
      "62\n",
      "398\n",
      "The number is not divisible by 2\n",
      "8098\n",
      "2914\n",
      "The number is not divisible by 2\n",
      "7742\n",
      "34\n",
      "898\n"
     ]
    }
   ],
   "source": [
    "l = [4,8,20,3,90,54,65,88,6,30]\n",
    "for i in l:\n",
    "    if i%2==0:\n",
    "        c=(i**2)-2\n",
    "        print(c)\n",
    "    else:\n",
    "        print(\"The number is not divisible by 2\")"
   ]
  },
  {
   "cell_type": "raw",
   "metadata": {},
   "source": [
    "Question 5:\n",
    "Consider a list of 10 elements. Print all the elements in the list which are greater than 7 when that number is divided 2."
   ]
  },
  {
   "cell_type": "code",
   "execution_count": 18,
   "metadata": {},
   "outputs": [
    {
     "name": "stdout",
     "output_type": "stream",
     "text": [
      "The number is divisible by 2 but less than 7 is  4\n",
      "The number is divisible by 2 & greater than 7 is  8\n",
      "The number is divisible by 2 & greater than 7 is  20\n",
      "The number is not divisible by 2\n",
      "The number is divisible by 2 & greater than 7 is  90\n",
      "The number is divisible by 2 & greater than 7 is  54\n",
      "The number is not divisible by 2\n",
      "The number is divisible by 2 & greater than 7 is  88\n",
      "The number is divisible by 2 but less than 7 is  6\n",
      "The number is divisible by 2 & greater than 7 is  30\n"
     ]
    }
   ],
   "source": [
    "l = [4,8,20,3,90,54,65,88,6,30]\n",
    "for i in l:\n",
    "    if i%2==0:\n",
    "        if i>7:\n",
    "            print(\"The number is divisible by 2 & greater than 7 is \",i)\n",
    "        else:\n",
    "            print(\"The number is divisible by 2 but less than 7 is \",i)\n",
    "    else:\n",
    "        print(\"The number is not divisible by 2\")"
   ]
  },
  {
   "cell_type": "code",
   "execution_count": null,
   "metadata": {},
   "outputs": [],
   "source": []
  }
 ],
 "metadata": {
  "kernelspec": {
   "display_name": "Python 3",
   "language": "python",
   "name": "python3"
  },
  "language_info": {
   "codemirror_mode": {
    "name": "ipython",
    "version": 3
   },
   "file_extension": ".py",
   "mimetype": "text/x-python",
   "name": "python",
   "nbconvert_exporter": "python",
   "pygments_lexer": "ipython3",
   "version": "3.7.6"
  }
 },
 "nbformat": 4,
 "nbformat_minor": 4
}
