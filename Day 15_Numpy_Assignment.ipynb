{
 "cells": [
  {
   "cell_type": "markdown",
   "metadata": {},
   "source": [
    "# 1. Create a 3x3x3 array with random values "
   ]
  },
  {
   "cell_type": "code",
   "execution_count": 81,
   "metadata": {},
   "outputs": [
    {
     "name": "stdout",
     "output_type": "stream",
     "text": [
      "[[[0.54811333 0.17941384 0.24140813]\n",
      "  [0.86355697 0.90911114 0.05438949]\n",
      "  [0.36980551 0.94278025 0.13304953]]\n",
      "\n",
      " [[0.73165023 0.90547129 0.75675736]\n",
      "  [0.40541463 0.34924741 0.88266937]\n",
      "  [0.02254402 0.57049101 0.81743101]]\n",
      "\n",
      " [[0.85321643 0.43738651 0.15501972]\n",
      "  [0.13690393 0.73169637 0.61239775]\n",
      "  [0.51488072 0.82019006 0.90145824]]]\n"
     ]
    }
   ],
   "source": [
    "import numpy as np\n",
    "rn = np.random.random((3,3,3))\n",
    "print(rn)"
   ]
  },
  {
   "cell_type": "markdown",
   "metadata": {},
   "source": [
    "# 2.Create a 5x5 matrix with values 1,2,3,4 just below the diagonal"
   ]
  },
  {
   "cell_type": "code",
   "execution_count": 51,
   "metadata": {},
   "outputs": [
    {
     "name": "stdout",
     "output_type": "stream",
     "text": [
      "[[0 0 0 0 0]\n",
      " [1 0 0 0 0]\n",
      " [0 2 0 0 0]\n",
      " [0 0 3 0 0]\n",
      " [0 0 0 4 0]]\n"
     ]
    }
   ],
   "source": [
    "import numpy as np\n",
    "a3 = np.zeros((5,5),dtype=int)\n",
    "a3[1][0] = 1\n",
    "a3[2][1] = 2\n",
    "a3[3][2] = 3\n",
    "a3[4][3] = 4\n",
    "print(a3)"
   ]
  },
  {
   "cell_type": "markdown",
   "metadata": {},
   "source": [
    "# 3.Create a 8x8 matrix and fill it with a checkerboard pattern"
   ]
  },
  {
   "cell_type": "code",
   "execution_count": 8,
   "metadata": {},
   "outputs": [
    {
     "name": "stdout",
     "output_type": "stream",
     "text": [
      "Checkerboard pattern:\n",
      "[[0 1 0 1 0 1 0 1]\n",
      " [1 0 1 0 1 0 1 0]\n",
      " [0 1 0 1 0 1 0 1]\n",
      " [1 0 1 0 1 0 1 0]\n",
      " [0 1 0 1 0 1 0 1]\n",
      " [1 0 1 0 1 0 1 0]\n",
      " [0 1 0 1 0 1 0 1]\n",
      " [1 0 1 0 1 0 1 0]]\n"
     ]
    }
   ],
   "source": [
    "import numpy as np\n",
    "print(\"Checkerboard pattern:\")\n",
    "cp = np.zeros((8,8),dtype=int)\n",
    "cp[1::2,::2] = 1\n",
    "cp[::2,1::2] = 1\n",
    "print(cp)"
   ]
  },
  {
   "cell_type": "markdown",
   "metadata": {},
   "source": [
    "# 4. Normalize a 5x5 random matrix"
   ]
  },
  {
   "cell_type": "code",
   "execution_count": 9,
   "metadata": {},
   "outputs": [
    {
     "name": "stdout",
     "output_type": "stream",
     "text": [
      "[[0.49328035 0.18186451 0.05880834 0.76145891 0.32959031]\n",
      " [0.87124982 0.4124186  0.12778474 0.71750981 0.16809716]\n",
      " [0.58328496 0.87535365 0.29977206 0.28204056 0.37979391]\n",
      " [0.16541957 0.99847391 0.2850974  0.03819548 0.85313075]\n",
      " [0.55745542 0.09514917 0.38328697 0.36259935 0.938156  ]]\n",
      "-------------------------------------\n",
      "After normalization:\n",
      "[[0.47390929 0.14961184 0.0214655  0.75318097 0.30344827]\n",
      " [0.86751334 0.38970273 0.09329508 0.70741393 0.13527501]\n",
      " [0.56763691 0.87178692 0.2723966  0.25393165 0.35572853]\n",
      " [0.13248666 1.         0.25711492 0.         0.84864478]\n",
      " [0.54073894 0.05930956 0.35936607 0.33782271 0.93718706]]\n"
     ]
    }
   ],
   "source": [
    "a1 = np.random.random((5,5))\n",
    "print(a1)\n",
    "a1max, a1min = a1.max(), a1.min()\n",
    "a1 = (a1 - a1min)/(a1max - a1min)\n",
    "print(\"-------------------------------------\")\n",
    "print(\"After normalization:\")\n",
    "print(a1)"
   ]
  },
  {
   "cell_type": "markdown",
   "metadata": {},
   "source": [
    "# 5.  How to find common values between two arrays?"
   ]
  },
  {
   "cell_type": "code",
   "execution_count": 12,
   "metadata": {},
   "outputs": [
    {
     "name": "stdout",
     "output_type": "stream",
     "text": [
      "Array1 : [ 2  4  6  8  9 15]\n",
      "Array2 : [4, 8, 15]\n",
      "Common values between two arrays:\n",
      "[ 4  8 15]\n"
     ]
    }
   ],
   "source": [
    "import numpy as np\n",
    "a1 = np.array([2,4,6,8,9,15])\n",
    "print(\"Array1 :\",a1)\n",
    "a2 = [4,8,15]\n",
    "print(\"Array2 :\",a2)\n",
    "print(\"Common values between two arrays:\")\n",
    "print(np.intersect1d(a1, a2))"
   ]
  },
  {
   "cell_type": "markdown",
   "metadata": {},
   "source": [
    "# 6.How to get the dates of yesterday, today and tomorrow?"
   ]
  },
  {
   "cell_type": "code",
   "execution_count": null,
   "metadata": {},
   "outputs": [],
   "source": [
    "import numpy as np\n",
    "yesterday = np.datetime64('today', 'D') - np.timedelta64(1, 'D')\n",
    "print(\"Yesterday: \",yesterday)\n",
    "today     = np.datetime64('today', 'D')\n",
    "print(\"Today: \",today)\n",
    "tomorrow  = np.datetime64('today', 'D') + np.timedelta64(1, 'D')\n",
    "print(\"Tomorrow: \",tomorrow)"
   ]
  },
  {
   "cell_type": "markdown",
   "metadata": {},
   "source": [
    "# 7. Consider two random array A and B, check if they are equal"
   ]
  },
  {
   "cell_type": "code",
   "execution_count": 57,
   "metadata": {},
   "outputs": [
    {
     "name": "stdout",
     "output_type": "stream",
     "text": [
      "False\n"
     ]
    }
   ],
   "source": [
    "import numpy as np\n",
    "a1 = np.random.randint(1,2,3)\n",
    "a2 = np.random.randint(0,2,3)\n",
    "a3 = np.allclose(a1,a2)\n",
    "print(a3)"
   ]
  },
  {
   "cell_type": "markdown",
   "metadata": {},
   "source": [
    "# 8.Create random vector of size 10 and replace the maximum value by 0 "
   ]
  },
  {
   "cell_type": "code",
   "execution_count": 20,
   "metadata": {},
   "outputs": [
    {
     "name": "stdout",
     "output_type": "stream",
     "text": [
      "[0.94105503 0.61893258 0.80377376 0.51649824 0.09172775 0.44932296\n",
      " 0.19503929 0.61910538 0.09185661 0.58175734]\n",
      "------------------------------------\n",
      "After replacement: [0.         0.61893258 0.80377376 0.51649824 0.09172775 0.44932296\n",
      " 0.19503929 0.61910538 0.09185661 0.58175734]\n"
     ]
    }
   ],
   "source": [
    "import numpy as np\n",
    "vector = np.random.random(10)\n",
    "print(vector)\n",
    "print(\"------------------------------------\")\n",
    "vector[vector.argmax()] = 0\n",
    "print(\"After replacement:\",vector)"
   ]
  },
  {
   "cell_type": "markdown",
   "metadata": {},
   "source": [
    "# 9. How to print all the values of an array?"
   ]
  },
  {
   "cell_type": "code",
   "execution_count": 10,
   "metadata": {},
   "outputs": [
    {
     "name": "stdout",
     "output_type": "stream",
     "text": [
      "2\n",
      "3\n",
      "4\n"
     ]
    }
   ],
   "source": [
    "import numpy as np\n",
    "a1 = np.array([2, 3, 4])\n",
    "for x in a1:\n",
    "    print(x)"
   ]
  },
  {
   "cell_type": "markdown",
   "metadata": {},
   "source": [
    "# 10.Subtract the mean of each row of a matrix"
   ]
  },
  {
   "cell_type": "code",
   "execution_count": 26,
   "metadata": {},
   "outputs": [
    {
     "name": "stdout",
     "output_type": "stream",
     "text": [
      "[[3 4]\n",
      " [4 5]\n",
      " [7 8]]\n",
      "---------------------------\n",
      "The sub mean of each row is :\n",
      " [[-2.16666667 -1.16666667]\n",
      " [-1.16666667 -0.16666667]\n",
      " [ 1.83333333  2.83333333]]\n"
     ]
    }
   ],
   "source": [
    "a1 = np.array([[3,4],[4,5],[7,8]])\n",
    "print(a1)\n",
    "print(\"---------------------------\")\n",
    "sub_mean = a1 - a1.mean()\n",
    "print(\"The sub mean of each row is :\\n\",sub_mean)"
   ]
  },
  {
   "cell_type": "markdown",
   "metadata": {},
   "source": [
    "# 11.Consider a given vector, how to add 1 to each element indexed by a second vector (be careful with repeated indices)? "
   ]
  },
  {
   "cell_type": "code",
   "execution_count": 28,
   "metadata": {},
   "outputs": [
    {
     "name": "stdout",
     "output_type": "stream",
     "text": [
      "[1.21731863 1.70436766 1.4284916  1.7543202  1.85919659 1.82479507\n",
      " 1.5845036  1.39151097 1.53773729 1.81308394]\n"
     ]
    }
   ],
   "source": [
    "a1 = np.random.random(10)\n",
    "a2 = a1+1\n",
    "print(a2)"
   ]
  },
  {
   "cell_type": "markdown",
   "metadata": {},
   "source": [
    "# 12.How to get the diagonal of a dot product?"
   ]
  },
  {
   "cell_type": "code",
   "execution_count": 62,
   "metadata": {},
   "outputs": [
    {
     "name": "stdout",
     "output_type": "stream",
     "text": [
      "a1:\n",
      " [[5 6 7]\n",
      " [8 7 5]\n",
      " [3 1 2]]\n",
      "a2:\n",
      " [[9 8 7]\n",
      " [0 9 8]\n",
      " [9 6 2]]\n",
      "a3:\n",
      " [108 157  33]\n"
     ]
    }
   ],
   "source": [
    "a1 = np.random.randint(0,10,(3,3))\n",
    "print(\"a1:\\n\",a1)\n",
    "a2 = np.random.randint(0,10,(3,3))\n",
    "print(\"a2:\\n\",a2)\n",
    "a3 = np.diag(np.dot(a1, a2))\n",
    "print(\"a3:\\n\",a3)"
   ]
  },
  {
   "cell_type": "markdown",
   "metadata": {},
   "source": [
    "# 13.How to find the most frequent value in an array?"
   ]
  },
  {
   "cell_type": "code",
   "execution_count": 64,
   "metadata": {},
   "outputs": [
    {
     "name": "stdout",
     "output_type": "stream",
     "text": [
      "a1:\n",
      " [3 9 8 8 4 0 4 5 1 8 9 8 0 4 0 6 3 5 2 3 3 3 4 4 5 6 5 2 0 4 3 4 7 6 4 2 8\n",
      " 7 1 0 8 5 3 7 9 7 5 2 9 8 5 3 6 7 2 0 8 8 5 2 9 6 3 6 2 6 9 6 1 4 1 7 5 0\n",
      " 2 1 9 8 5 4 6 7 3 5 8 9 8 9 5 9 3 9 9 9 3 9 0 5 4 8]\n",
      "Freq value: 9\n"
     ]
    }
   ],
   "source": [
    "a1 = np.random.randint(0,10,100)\n",
    "print(\"a1:\\n\",a1)\n",
    "fv = np.bincount(a1).argmax()\n",
    "print(\"Freq value:\",fv)"
   ]
  },
  {
   "cell_type": "markdown",
   "metadata": {},
   "source": [
    "# 14.How to get the n largest values of an array"
   ]
  },
  {
   "cell_type": "code",
   "execution_count": 74,
   "metadata": {},
   "outputs": [
    {
     "name": "stdout",
     "output_type": "stream",
     "text": [
      "a1:\n",
      " [ 0  1  2  3  4  5  6  7  8  9 10 11 12 13 14 15 16 17 18 19 20 21 22 23\n",
      " 24 25 26 27 28 29 30 31 32 33 34 35 36 37 38 39 40 41 42 43 44 45 46 47\n",
      " 48 49 50 51 52 53 54 55 56 57 58 59 60 61 62 63 64 65 66 67 68 69 70 71\n",
      " 72 73 74 75 76 77 78 79 80 81 82 83 84 85 86 87 88 89 90 91 92 93 94 95\n",
      " 96 97 98 99]\n",
      "a2:\n",
      " [90 91 92 93 94 95 96 97 98 99]\n"
     ]
    }
   ],
   "source": [
    "a1 = np.arange(100)\n",
    "print(\"a1:\\n\",a1)\n",
    "np.random.shuffle(a1)\n",
    "n = 10\n",
    "a2 = a1[np.argsort(a1)[-n:]]\n",
    "print(\"a2:\\n\",a2)"
   ]
  },
  {
   "cell_type": "markdown",
   "metadata": {},
   "source": [
    "# 15.How to create a record array from a regular array?"
   ]
  },
  {
   "cell_type": "code",
   "execution_count": 80,
   "metadata": {},
   "outputs": [
    {
     "name": "stdout",
     "output_type": "stream",
     "text": [
      "[(b'How are', 4.2, 3) (b'You', 6.6, 2)]\n"
     ]
    }
   ],
   "source": [
    "a1 = np.array([(\"How are\", 4.2, 3),\n",
    "              (\"You\", 6.6, 2)])\n",
    "a2 = np.core.records.fromarrays(a1.T,\n",
    "                               names ='col1, col2, col3',\n",
    "                               formats = 'S8, f8, i8')\n",
    "print(a2)"
   ]
  },
  {
   "cell_type": "code",
   "execution_count": null,
   "metadata": {},
   "outputs": [],
   "source": []
  }
 ],
 "metadata": {
  "kernelspec": {
   "display_name": "Python 3",
   "language": "python",
   "name": "python3"
  },
  "language_info": {
   "codemirror_mode": {
    "name": "ipython",
    "version": 3
   },
   "file_extension": ".py",
   "mimetype": "text/x-python",
   "name": "python",
   "nbconvert_exporter": "python",
   "pygments_lexer": "ipython3",
   "version": "3.7.6"
  }
 },
 "nbformat": 4,
 "nbformat_minor": 2
}
